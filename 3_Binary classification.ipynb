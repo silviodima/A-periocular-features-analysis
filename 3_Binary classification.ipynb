{
 "cells": [
  {
   "cell_type": "markdown",
   "metadata": {},
   "source": [
    "\n",
    "[BERNOULLI] Naive Bayes is a classification algorithm for binary (two-class) and multiclass classification problems. It is called Naive Bayes or idiot Bayes because the calculations of the probabilities for each class are simplified to make their calculations tractable.\n",
    "\n",
    "[SVM] You can use a support vector machine (SVM) when your data has exactly two classes. An SVM classifies data by finding the best hyperplane that separates all data points of one class from those of the other class. The best hyperplane for an SVM means the one with the largest margin between the two classes. Margin means the maximal width of the slab parallel to the hyperplane that has no interior data points.\n",
    "\n",
    "[LOGISTIC REGRESSION] Logistic regression is a statistical model that in its basic form uses a logistic function to model a binary dependent variable, although many more complex extensions exist. In regression analysis, logistic regression[1] (or logit regression) is estimating the parameters of a logistic model (a form of binary regression). Mathematically, a binary logistic model has a dependent variable with two possible values, such as pass/fail which is represented by an indicator variable, where the two values are labeled \"0\" and \"1\"\n",
    "\n",
    "[DECISION TREE] Decision tree learning is one of the predictive modelling approaches used in statistics, data mining and machine learning. It uses a decision tree (as a predictive model) to go from observations about an item (represented in the branches) to conclusions about the item's target value (represented in the leaves). Tree models where the target variable can take a discrete set of values are called classification trees; in these tree structures, leaves represent class labels and branches represent conjunctions of features that lead to those class labels. Decision trees where the target variable can take continuous values (typically real numbers) are called regression trees. Decision trees are among the most popular machine learning algorithms given their intelligibility and simplicity\n",
    "\n"
   ]
  },
  {
   "cell_type": "markdown",
   "metadata": {},
   "source": [
    "# Let's load the dataset for the final binary classification"
   ]
  },
  {
   "cell_type": "code",
   "execution_count": 1,
   "metadata": {},
   "outputs": [],
   "source": [
    "import pandas\n",
    "\n",
    "dataset = pandas.read_csv(\"dataset.csv\", index_col = False, header = 0 )\n"
   ]
  },
  {
   "cell_type": "code",
   "execution_count": 2,
   "metadata": {},
   "outputs": [
    {
     "data": {
      "text/html": [
       "<div>\n",
       "<style scoped>\n",
       "    .dataframe tbody tr th:only-of-type {\n",
       "        vertical-align: middle;\n",
       "    }\n",
       "\n",
       "    .dataframe tbody tr th {\n",
       "        vertical-align: top;\n",
       "    }\n",
       "\n",
       "    .dataframe thead th {\n",
       "        text-align: right;\n",
       "    }\n",
       "</style>\n",
       "<table border=\"1\" class=\"dataframe\">\n",
       "  <thead>\n",
       "    <tr style=\"text-align: right;\">\n",
       "      <th></th>\n",
       "      <th>image category</th>\n",
       "      <th># fixations</th>\n",
       "      <th>mean duration</th>\n",
       "      <th># clusters</th>\n",
       "      <th># noise points</th>\n",
       "      <th>silhouette score</th>\n",
       "      <th>CLASS</th>\n",
       "    </tr>\n",
       "  </thead>\n",
       "  <tbody>\n",
       "    <tr>\n",
       "      <th>0</th>\n",
       "      <td>0</td>\n",
       "      <td>23</td>\n",
       "      <td>232.78</td>\n",
       "      <td>2</td>\n",
       "      <td>2</td>\n",
       "      <td>0.71</td>\n",
       "      <td>1</td>\n",
       "    </tr>\n",
       "    <tr>\n",
       "      <th>1</th>\n",
       "      <td>0</td>\n",
       "      <td>22</td>\n",
       "      <td>237.73</td>\n",
       "      <td>4</td>\n",
       "      <td>4</td>\n",
       "      <td>0.57</td>\n",
       "      <td>1</td>\n",
       "    </tr>\n",
       "    <tr>\n",
       "      <th>2</th>\n",
       "      <td>0</td>\n",
       "      <td>23</td>\n",
       "      <td>238.56</td>\n",
       "      <td>2</td>\n",
       "      <td>2</td>\n",
       "      <td>0.69</td>\n",
       "      <td>1</td>\n",
       "    </tr>\n",
       "    <tr>\n",
       "      <th>3</th>\n",
       "      <td>0</td>\n",
       "      <td>27</td>\n",
       "      <td>225.68</td>\n",
       "      <td>4</td>\n",
       "      <td>9</td>\n",
       "      <td>0.33</td>\n",
       "      <td>1</td>\n",
       "    </tr>\n",
       "    <tr>\n",
       "      <th>4</th>\n",
       "      <td>0</td>\n",
       "      <td>27</td>\n",
       "      <td>219.90</td>\n",
       "      <td>3</td>\n",
       "      <td>8</td>\n",
       "      <td>0.37</td>\n",
       "      <td>1</td>\n",
       "    </tr>\n",
       "    <tr>\n",
       "      <th>...</th>\n",
       "      <td>...</td>\n",
       "      <td>...</td>\n",
       "      <td>...</td>\n",
       "      <td>...</td>\n",
       "      <td>...</td>\n",
       "      <td>...</td>\n",
       "      <td>...</td>\n",
       "    </tr>\n",
       "    <tr>\n",
       "      <th>4043</th>\n",
       "      <td>1</td>\n",
       "      <td>22</td>\n",
       "      <td>253.82</td>\n",
       "      <td>2</td>\n",
       "      <td>4</td>\n",
       "      <td>0.59</td>\n",
       "      <td>5</td>\n",
       "    </tr>\n",
       "    <tr>\n",
       "      <th>4044</th>\n",
       "      <td>1</td>\n",
       "      <td>23</td>\n",
       "      <td>252.80</td>\n",
       "      <td>4</td>\n",
       "      <td>6</td>\n",
       "      <td>0.39</td>\n",
       "      <td>5</td>\n",
       "    </tr>\n",
       "    <tr>\n",
       "      <th>4045</th>\n",
       "      <td>1</td>\n",
       "      <td>15</td>\n",
       "      <td>254.86</td>\n",
       "      <td>2</td>\n",
       "      <td>4</td>\n",
       "      <td>0.47</td>\n",
       "      <td>5</td>\n",
       "    </tr>\n",
       "    <tr>\n",
       "      <th>4046</th>\n",
       "      <td>1</td>\n",
       "      <td>26</td>\n",
       "      <td>253.31</td>\n",
       "      <td>2</td>\n",
       "      <td>3</td>\n",
       "      <td>0.43</td>\n",
       "      <td>5</td>\n",
       "    </tr>\n",
       "    <tr>\n",
       "      <th>4047</th>\n",
       "      <td>1</td>\n",
       "      <td>29</td>\n",
       "      <td>250.77</td>\n",
       "      <td>2</td>\n",
       "      <td>6</td>\n",
       "      <td>0.50</td>\n",
       "      <td>5</td>\n",
       "    </tr>\n",
       "  </tbody>\n",
       "</table>\n",
       "<p>4048 rows × 7 columns</p>\n",
       "</div>"
      ],
      "text/plain": [
       "      image category  # fixations  mean duration  # clusters  # noise points  \\\n",
       "0                  0           23         232.78           2               2   \n",
       "1                  0           22         237.73           4               4   \n",
       "2                  0           23         238.56           2               2   \n",
       "3                  0           27         225.68           4               9   \n",
       "4                  0           27         219.90           3               8   \n",
       "...              ...          ...            ...         ...             ...   \n",
       "4043               1           22         253.82           2               4   \n",
       "4044               1           23         252.80           4               6   \n",
       "4045               1           15         254.86           2               4   \n",
       "4046               1           26         253.31           2               3   \n",
       "4047               1           29         250.77           2               6   \n",
       "\n",
       "      silhouette score  CLASS  \n",
       "0                 0.71      1  \n",
       "1                 0.57      1  \n",
       "2                 0.69      1  \n",
       "3                 0.33      1  \n",
       "4                 0.37      1  \n",
       "...                ...    ...  \n",
       "4043              0.59      5  \n",
       "4044              0.39      5  \n",
       "4045              0.47      5  \n",
       "4046              0.43      5  \n",
       "4047              0.50      5  \n",
       "\n",
       "[4048 rows x 7 columns]"
      ]
     },
     "execution_count": 2,
     "metadata": {},
     "output_type": "execute_result"
    }
   ],
   "source": [
    "dataset"
   ]
  },
  {
   "cell_type": "markdown",
   "metadata": {},
   "source": [
    "### Describe each column:\n",
    "* image category is 0 or 1: 0 for clear images, 1 for unclear images\n",
    "* #fixations is the number of fixations of a participant on a particular image\n",
    "* mean duration is calculated within all fixations of a participant on a particular image\n",
    "* #clusters is the number of clusters calculated by DBSCAN, based on the position of fixations of a participant on a particular image\n",
    "* #noise points is the number of noise points calculated by DBSCAN, always based on the position of fixations\n",
    "* silhoette score is a score calculated on the number of clusters and of noise points\n",
    "* CLASS is the label of each row: it's based on the column 'iteration' of the original dataset. The 1st iteration's data are labeled with 1, the 5th iteration's data are labeled with 5"
   ]
  },
  {
   "cell_type": "markdown",
   "metadata": {},
   "source": [
    "## Let's divide the dataset by column\n",
    "### We separate the CLASS column from the rest of the dataset, that are the FEATURES extracted."
   ]
  },
  {
   "cell_type": "code",
   "execution_count": 3,
   "metadata": {},
   "outputs": [
    {
     "name": "stdout",
     "output_type": "stream",
     "text": [
      "0       1\n",
      "1       1\n",
      "2       1\n",
      "3       1\n",
      "4       1\n",
      "       ..\n",
      "4043    5\n",
      "4044    5\n",
      "4045    5\n",
      "4046    5\n",
      "4047    5\n",
      "Name: CLASS, Length: 4048, dtype: int64\n",
      "--------\n"
     ]
    }
   ],
   "source": [
    "classification = dataset['CLASS'] #binary classification (1,5)\n",
    "print(classification)\n",
    "print('--------')\n"
   ]
  },
  {
   "cell_type": "markdown",
   "metadata": {},
   "source": [
    "## On FEATURES we perform the scaling to standardize the dataset along axis"
   ]
  },
  {
   "cell_type": "code",
   "execution_count": 4,
   "metadata": {},
   "outputs": [
    {
     "name": "stdout",
     "output_type": "stream",
     "text": [
      "[[  0.    23.   232.78   2.     2.     0.71]\n",
      " [  0.    22.   237.73   4.     4.     0.57]\n",
      " [  0.    23.   238.56   2.     2.     0.69]\n",
      " ...\n",
      " [  1.    15.   254.86   2.     4.     0.47]\n",
      " [  1.    26.   253.31   2.     3.     0.43]\n",
      " [  1.    29.   250.77   2.     6.     0.5 ]]\n",
      "\n",
      "[[-0.63185405  0.16169204 -0.59591636 -0.48214976 -0.83408532  1.51527762]\n",
      " [-0.63185405 -0.05633906 -0.41459772  1.27301411 -0.0975283   0.58522289]\n",
      " [-0.63185405  0.16169204 -0.3841948  -0.48214976 -0.83408532  1.38241266]\n",
      " ...\n",
      " [ 1.58264396 -1.58255679  0.21287467 -0.48214976 -0.0975283  -0.07910192]\n",
      " [ 1.58264396  0.81578535  0.15609812 -0.48214976 -0.46580681 -0.34483184]\n",
      " [ 1.58264396  1.46987866  0.06305785 -0.48214976  0.63902872  0.12019553]]\n"
     ]
    }
   ],
   "source": [
    "from sklearn import preprocessing\n",
    "\n",
    "Features = dataset[['image category', '# fixations','mean duration','# clusters','# noise points','silhouette score']].values  # be careful with the spaces\n",
    "print(Features) \n",
    "Features = preprocessing.scale(Features) \n",
    "print() \n",
    "print(Features) \n"
   ]
  },
  {
   "cell_type": "markdown",
   "metadata": {},
   "source": [
    "## Let's split the dataset: 70-30"
   ]
  },
  {
   "cell_type": "code",
   "execution_count": 5,
   "metadata": {},
   "outputs": [
    {
     "name": "stdout",
     "output_type": "stream",
     "text": [
      "(2833, 6)\n"
     ]
    }
   ],
   "source": [
    "from sklearn.model_selection import train_test_split\n",
    "\n",
    "X_train, X_test, y_train, y_test = train_test_split(Features, classification, test_size=0.3, random_state=42)\n",
    "print(X_train.shape)"
   ]
  },
  {
   "cell_type": "markdown",
   "metadata": {},
   "source": [
    "# GRIDSEARCHCV\n",
    "\n",
    "## This is an approach to find the best classifier and the best values"
   ]
  },
  {
   "cell_type": "markdown",
   "metadata": {},
   "source": [
    "## KEEP IN MIND:\n",
    "\n",
    "* ### ACCURACY = the most intuitive performance measure. It's a ratio of correctly predicted observation to the total observations.\n",
    "\n",
    "* ### PRECISION = the ratio of correctly predicted positive observations to the total predicted positive observation: when it will predict '5', how many actually will be '5'?\n",
    "\n",
    "* ### RECALL: is the sensitivity. The ratio of correctly predicted positive observations to thenumber of all samples that should have been identified as '5': of all rows that will be '5', how many did we label as '5'?\n",
    "\n",
    "* ### F1SCORE: is the weighted average of Precision and Recall. "
   ]
  },
  {
   "cell_type": "code",
   "execution_count": 6,
   "metadata": {},
   "outputs": [],
   "source": [
    "from sklearn.model_selection import GridSearchCV\n",
    "from sklearn import svm\n",
    "from sklearn.linear_model import LogisticRegression\n",
    "from sklearn.naive_bayes import BernoulliNB\n",
    "from sklearn import tree\n",
    "from sklearn.tree import DecisionTreeClassifier, export_graphviz\n",
    "from sklearn.metrics import accuracy_score\n"
   ]
  },
  {
   "cell_type": "markdown",
   "metadata": {},
   "source": [
    "## Let's try with these parameters of SVM classifier"
   ]
  },
  {
   "cell_type": "code",
   "execution_count": 7,
   "metadata": {},
   "outputs": [],
   "source": [
    "params_SVM = {\n",
    "            'C' : [1,2,5,10,20],\n",
    "            'kernel' : ['linear', 'poly', 'rbf', 'sigmoid']\n",
    "}"
   ]
  },
  {
   "cell_type": "code",
   "execution_count": 8,
   "metadata": {},
   "outputs": [
    {
     "name": "stdout",
     "output_type": "stream",
     "text": [
      "Fitting 5 folds for each of 20 candidates, totalling 100 fits\n"
     ]
    },
    {
     "name": "stderr",
     "output_type": "stream",
     "text": [
      "[Parallel(n_jobs=1)]: Using backend SequentialBackend with 1 concurrent workers.\n"
     ]
    },
    {
     "name": "stdout",
     "output_type": "stream",
     "text": [
      "Best parameters set found on developmen set:\n",
      " {'C': 2, 'kernel': 'rbf'}\n",
      "\n",
      "Grid scores on development set:\n",
      "\n",
      "\n",
      "0.676 (+/-0.036) for {'C': 1, 'kernel': 'linear'}\n",
      "0.658 (+/-0.027) for {'C': 1, 'kernel': 'poly'}\n",
      "0.743 (+/-0.019) for {'C': 1, 'kernel': 'rbf'}\n",
      "0.536 (+/-0.041) for {'C': 1, 'kernel': 'sigmoid'}\n",
      "0.676 (+/-0.037) for {'C': 2, 'kernel': 'linear'}\n",
      "0.647 (+/-0.024) for {'C': 2, 'kernel': 'poly'}\n",
      "0.748 (+/-0.025) for {'C': 2, 'kernel': 'rbf'}\n",
      "0.535 (+/-0.044) for {'C': 2, 'kernel': 'sigmoid'}\n",
      "0.677 (+/-0.038) for {'C': 5, 'kernel': 'linear'}\n",
      "0.643 (+/-0.027) for {'C': 5, 'kernel': 'poly'}\n",
      "0.747 (+/-0.030) for {'C': 5, 'kernel': 'rbf'}\n",
      "0.535 (+/-0.042) for {'C': 5, 'kernel': 'sigmoid'}\n",
      "0.676 (+/-0.039) for {'C': 10, 'kernel': 'linear'}\n",
      "0.643 (+/-0.022) for {'C': 10, 'kernel': 'poly'}\n",
      "0.742 (+/-0.033) for {'C': 10, 'kernel': 'rbf'}\n",
      "0.535 (+/-0.042) for {'C': 10, 'kernel': 'sigmoid'}\n",
      "0.676 (+/-0.039) for {'C': 20, 'kernel': 'linear'}\n",
      "0.643 (+/-0.022) for {'C': 20, 'kernel': 'poly'}\n",
      "0.734 (+/-0.037) for {'C': 20, 'kernel': 'rbf'}\n",
      "0.536 (+/-0.045) for {'C': 20, 'kernel': 'sigmoid'}\n",
      "\n"
     ]
    },
    {
     "name": "stderr",
     "output_type": "stream",
     "text": [
      "[Parallel(n_jobs=1)]: Done 100 out of 100 | elapsed:   19.3s finished\n"
     ]
    }
   ],
   "source": [
    "clf_svm = GridSearchCV(svm.SVC(random_state = 42), params_SVM, cv=5, verbose = 1)\n",
    "clf_svm.fit(X_train, y_train)\n",
    "\n",
    "print(\"Best parameters set found on developmen set:\\n\",clf_svm.best_params_)\n",
    "print(\"\\nGrid scores on development set:\\n\")\n",
    "print()\n",
    "means1 = clf_svm.cv_results_['mean_test_score']\n",
    "stds1 = clf_svm.cv_results_['std_test_score']\n",
    "for mean1, std1, params in zip(means1, stds1, clf_svm.cv_results_['params']):\n",
    "    print(\"%0.3f (+/-%0.03f) for %r\"\n",
    "          % (mean1, std1 * 2, params))\n",
    "print()"
   ]
  },
  {
   "cell_type": "code",
   "execution_count": 9,
   "metadata": {},
   "outputs": [
    {
     "name": "stdout",
     "output_type": "stream",
     "text": [
      "              precision    recall  f1-score   support\n",
      "\n",
      "           1       0.81      0.72      0.76       644\n",
      "           5       0.72      0.81      0.76       571\n",
      "\n",
      "    accuracy                           0.76      1215\n",
      "   macro avg       0.76      0.76      0.76      1215\n",
      "weighted avg       0.76      0.76      0.76      1215\n",
      "\n",
      "Accuracy 0.7580246913580246\n"
     ]
    }
   ],
   "source": [
    "from sklearn import metrics\n",
    "\n",
    "best_estimator1 = clf_svm.best_estimator_\n",
    "preds_svm = best_estimator1.predict(X_test)\n",
    "print(metrics.classification_report(y_test, preds_svm))\n",
    "\n",
    "accuracy_svm = accuracy_score(y_test, preds_svm)\n",
    "print(\"Accuracy\", accuracy_svm)"
   ]
  },
  {
   "cell_type": "markdown",
   "metadata": {},
   "source": [
    "## Now let's try with Logistic regression"
   ]
  },
  {
   "cell_type": "code",
   "execution_count": 10,
   "metadata": {},
   "outputs": [],
   "source": [
    "params_logistic = {\n",
    "            'C': [0.005, 0.01, 0.05, 0.1, 0.2, 0.5, 1,2],\n",
    "            'penalty': ['l1', 'l2']\n",
    "}\n",
    "\n",
    "    "
   ]
  },
  {
   "cell_type": "code",
   "execution_count": 11,
   "metadata": {},
   "outputs": [
    {
     "name": "stdout",
     "output_type": "stream",
     "text": [
      "Fitting 5 folds for each of 16 candidates, totalling 80 fits\n"
     ]
    },
    {
     "name": "stderr",
     "output_type": "stream",
     "text": [
      "[Parallel(n_jobs=1)]: Using backend SequentialBackend with 1 concurrent workers.\n"
     ]
    },
    {
     "name": "stdout",
     "output_type": "stream",
     "text": [
      "Best parameters set found on developmen set:\n",
      " {'C': 0.05, 'penalty': 'l1'}\n",
      "\n",
      "Grid scores on development set:\n",
      "\n",
      "\n",
      "0.652 (+/-0.030) for {'C': 0.005, 'penalty': 'l1'}\n",
      "0.650 (+/-0.037) for {'C': 0.005, 'penalty': 'l2'}\n",
      "0.654 (+/-0.032) for {'C': 0.01, 'penalty': 'l1'}\n",
      "0.653 (+/-0.035) for {'C': 0.01, 'penalty': 'l2'}\n",
      "0.661 (+/-0.043) for {'C': 0.05, 'penalty': 'l1'}\n",
      "0.656 (+/-0.040) for {'C': 0.05, 'penalty': 'l2'}\n",
      "0.661 (+/-0.035) for {'C': 0.1, 'penalty': 'l1'}\n",
      "0.654 (+/-0.036) for {'C': 0.1, 'penalty': 'l2'}\n",
      "0.656 (+/-0.035) for {'C': 0.2, 'penalty': 'l1'}\n",
      "0.653 (+/-0.036) for {'C': 0.2, 'penalty': 'l2'}\n",
      "0.655 (+/-0.034) for {'C': 0.5, 'penalty': 'l1'}\n",
      "0.653 (+/-0.034) for {'C': 0.5, 'penalty': 'l2'}\n",
      "0.654 (+/-0.034) for {'C': 1, 'penalty': 'l1'}\n",
      "0.652 (+/-0.033) for {'C': 1, 'penalty': 'l2'}\n",
      "0.653 (+/-0.034) for {'C': 2, 'penalty': 'l1'}\n",
      "0.652 (+/-0.033) for {'C': 2, 'penalty': 'l2'}\n",
      "\n"
     ]
    },
    {
     "name": "stderr",
     "output_type": "stream",
     "text": [
      "[Parallel(n_jobs=1)]: Done  80 out of  80 | elapsed:    0.2s finished\n"
     ]
    }
   ],
   "source": [
    "clf_logreg= GridSearchCV(LogisticRegression(solver = 'liblinear',random_state = 42), params_logistic, cv=5, verbose = 1)\n",
    "clf_logreg.fit(X_train, y_train)\n",
    "\n",
    "print(\"Best parameters set found on developmen set:\\n\",clf_logreg.best_params_)\n",
    "print(\"\\nGrid scores on development set:\\n\")\n",
    "print()\n",
    "means2 = clf_logreg.cv_results_['mean_test_score']\n",
    "stds2 = clf_logreg.cv_results_['std_test_score']\n",
    "for mean2, std2, params in zip(means2, stds2, clf_logreg.cv_results_['params']):\n",
    "    print(\"%0.3f (+/-%0.03f) for %r\"\n",
    "          % (mean2, std2 * 2, params))\n",
    "print()"
   ]
  },
  {
   "cell_type": "code",
   "execution_count": 12,
   "metadata": {},
   "outputs": [
    {
     "name": "stdout",
     "output_type": "stream",
     "text": [
      "              precision    recall  f1-score   support\n",
      "\n",
      "           1       0.69      0.72      0.70       644\n",
      "           5       0.67      0.63      0.65       571\n",
      "\n",
      "    accuracy                           0.68      1215\n",
      "   macro avg       0.68      0.68      0.68      1215\n",
      "weighted avg       0.68      0.68      0.68      1215\n",
      "\n",
      "Accuracy 0.6781893004115226\n"
     ]
    }
   ],
   "source": [
    "best_estimator2 = clf_logreg.best_estimator_\n",
    "preds2 = best_estimator2.predict(X_test)\n",
    "print(metrics.classification_report(y_test, preds2))\n",
    "\n",
    "accuracy_logreg = accuracy_score(y_test, preds2)\n",
    "print(\"Accuracy\", accuracy_logreg)"
   ]
  },
  {
   "cell_type": "markdown",
   "metadata": {},
   "source": [
    "## Let's try with Bernoulli"
   ]
  },
  {
   "cell_type": "code",
   "execution_count": 13,
   "metadata": {},
   "outputs": [],
   "source": [
    "params_bernoulli = {\n",
    "            'binarize': [0.0025, 0.005, 0.007, 0.01, 0.05, 0.1, 0.2, 0.5, 1],\n",
    "}\n",
    "\n",
    "    "
   ]
  },
  {
   "cell_type": "code",
   "execution_count": 14,
   "metadata": {},
   "outputs": [
    {
     "name": "stdout",
     "output_type": "stream",
     "text": [
      "Fitting 5 folds for each of 9 candidates, totalling 45 fits\n",
      "Best parameters set found on developmen set:\n",
      " {'binarize': 0.005}\n",
      "\n",
      "Grid scores on development set:\n",
      "\n",
      "\n",
      "0.651 (+/-0.033) for {'binarize': 0.0025}\n",
      "0.652 (+/-0.033) for {'binarize': 0.005}\n",
      "0.650 (+/-0.037) for {'binarize': 0.007}\n",
      "0.649 (+/-0.037) for {'binarize': 0.01}\n",
      "0.641 (+/-0.036) for {'binarize': 0.05}\n",
      "0.630 (+/-0.035) for {'binarize': 0.1}\n",
      "0.611 (+/-0.041) for {'binarize': 0.2}\n",
      "0.572 (+/-0.049) for {'binarize': 0.5}\n",
      "0.544 (+/-0.042) for {'binarize': 1}\n",
      "\n"
     ]
    },
    {
     "name": "stderr",
     "output_type": "stream",
     "text": [
      "[Parallel(n_jobs=1)]: Using backend SequentialBackend with 1 concurrent workers.\n",
      "[Parallel(n_jobs=1)]: Done  45 out of  45 | elapsed:    0.0s finished\n"
     ]
    }
   ],
   "source": [
    "clf_bernoulli = GridSearchCV(BernoulliNB(), params_bernoulli, cv=5, verbose = 1)\n",
    "clf_bernoulli.fit(X_train, y_train)\n",
    "\n",
    "print(\"Best parameters set found on developmen set:\\n\",clf_bernoulli.best_params_)\n",
    "print(\"\\nGrid scores on development set:\\n\")\n",
    "print()\n",
    "means3 = clf_bernoulli.cv_results_['mean_test_score']\n",
    "stds3 = clf_bernoulli.cv_results_['std_test_score']\n",
    "for mean3, std3, params in zip(means3, stds3, clf_bernoulli.cv_results_['params']):\n",
    "    print(\"%0.3f (+/-%0.03f) for %r\"\n",
    "          % (mean3, std3 * 2, params))\n",
    "print()"
   ]
  },
  {
   "cell_type": "code",
   "execution_count": 15,
   "metadata": {},
   "outputs": [
    {
     "name": "stdout",
     "output_type": "stream",
     "text": [
      "              precision    recall  f1-score   support\n",
      "\n",
      "           1       0.69      0.73      0.71       644\n",
      "           5       0.67      0.64      0.65       571\n",
      "\n",
      "    accuracy                           0.68      1215\n",
      "   macro avg       0.68      0.68      0.68      1215\n",
      "weighted avg       0.68      0.68      0.68      1215\n",
      "\n",
      "Accuracy 0.6831275720164609\n"
     ]
    }
   ],
   "source": [
    "best_estimator3 = clf_bernoulli.best_estimator_\n",
    "preds3 = best_estimator3.predict(X_test)\n",
    "print(metrics.classification_report(y_test, preds3))\n",
    "\n",
    "accuracy_bernoulli = accuracy_score(y_test, preds3)\n",
    "print(\"Accuracy\", accuracy_bernoulli)"
   ]
  },
  {
   "cell_type": "markdown",
   "metadata": {},
   "source": [
    "## Let's try Decision Tree!"
   ]
  },
  {
   "cell_type": "code",
   "execution_count": 16,
   "metadata": {},
   "outputs": [],
   "source": [
    "params_decisiontree = {\n",
    "            'criterion' : ['gini', 'entropy'],\n",
    "            'max_depth': [3,4,5, None]\n",
    "        }\n",
    "\n",
    "       \n"
   ]
  },
  {
   "cell_type": "code",
   "execution_count": 17,
   "metadata": {},
   "outputs": [
    {
     "name": "stderr",
     "output_type": "stream",
     "text": [
      "[Parallel(n_jobs=1)]: Using backend SequentialBackend with 1 concurrent workers.\n"
     ]
    },
    {
     "name": "stdout",
     "output_type": "stream",
     "text": [
      "Fitting 5 folds for each of 8 candidates, totalling 40 fits\n"
     ]
    },
    {
     "name": "stderr",
     "output_type": "stream",
     "text": [
      "[Parallel(n_jobs=1)]: Done  40 out of  40 | elapsed:    0.1s finished\n"
     ]
    },
    {
     "name": "stdout",
     "output_type": "stream",
     "text": [
      "Best parameters set found on developmen set:\n",
      " {'criterion': 'gini', 'max_depth': 5}\n",
      "\n",
      "Grid scores on development set:\n",
      "\n",
      "\n",
      "0.734 (+/-0.054) for {'criterion': 'gini', 'max_depth': 3}\n",
      "0.743 (+/-0.050) for {'criterion': 'gini', 'max_depth': 4}\n",
      "0.744 (+/-0.038) for {'criterion': 'gini', 'max_depth': 5}\n",
      "0.674 (+/-0.036) for {'criterion': 'gini', 'max_depth': None}\n",
      "0.728 (+/-0.051) for {'criterion': 'entropy', 'max_depth': 3}\n",
      "0.731 (+/-0.046) for {'criterion': 'entropy', 'max_depth': 4}\n",
      "0.735 (+/-0.050) for {'criterion': 'entropy', 'max_depth': 5}\n",
      "0.680 (+/-0.031) for {'criterion': 'entropy', 'max_depth': None}\n",
      "\n"
     ]
    }
   ],
   "source": [
    "clf_tree = GridSearchCV(tree.DecisionTreeClassifier(random_state = 42), params_decisiontree, cv=5, verbose = 1)\n",
    "clf_tree.fit(X_train, y_train)\n",
    "\n",
    "print(\"Best parameters set found on developmen set:\\n\",clf_tree.best_params_)\n",
    "print(\"\\nGrid scores on development set:\\n\")\n",
    "print()\n",
    "means4 = clf_tree.cv_results_['mean_test_score']\n",
    "stds4 = clf_tree.cv_results_['std_test_score']\n",
    "for mean4, std4, params in zip(means4, stds4, clf_tree.cv_results_['params']):\n",
    "    print(\"%0.3f (+/-%0.03f) for %r\"\n",
    "          % (mean4, std4 * 2, params))\n",
    "print()"
   ]
  },
  {
   "cell_type": "code",
   "execution_count": 18,
   "metadata": {},
   "outputs": [
    {
     "name": "stdout",
     "output_type": "stream",
     "text": [
      "              precision    recall  f1-score   support\n",
      "\n",
      "           1       0.81      0.70      0.75       644\n",
      "           5       0.71      0.81      0.76       571\n",
      "\n",
      "    accuracy                           0.75      1215\n",
      "   macro avg       0.76      0.76      0.75      1215\n",
      "weighted avg       0.76      0.75      0.75      1215\n",
      "\n",
      "Accuracy 0.7539094650205761\n"
     ]
    }
   ],
   "source": [
    "best_estimator4 = clf_tree.best_estimator_\n",
    "preds4 = best_estimator4.predict(X_test)\n",
    "print(metrics.classification_report(y_test, preds4))\n",
    "\n",
    "accuracy_dt = accuracy_score(y_test, preds4)\n",
    "print(\"Accuracy\", accuracy_dt)"
   ]
  },
  {
   "cell_type": "markdown",
   "metadata": {},
   "source": [
    "## Which features mattered most?"
   ]
  },
  {
   "cell_type": "code",
   "execution_count": 19,
   "metadata": {},
   "outputs": [
    {
     "name": "stdout",
     "output_type": "stream",
     "text": [
      "              precision    recall  f1-score   support\n",
      "\n",
      "           1       0.81      0.70      0.75       644\n",
      "           5       0.71      0.81      0.76       571\n",
      "\n",
      "    accuracy                           0.75      1215\n",
      "   macro avg       0.76      0.76      0.75      1215\n",
      "weighted avg       0.76      0.75      0.75      1215\n",
      "\n",
      "{'image category': 0.011169295050306565, '# fixations': 0.0, 'mean duration': 0.7480918017456407, '# clusters': 0.014560689201692087, '# noise points': 0.17662851284575215, 'silhouette score': 0.04954970115660856}\n"
     ]
    },
    {
     "data": {
      "image/png": "[encoded data removed]",
      "text/plain": [
       "<Figure size 432x288 with 1 Axes>"
      ]
     },
     "metadata": {
      "needs_background": "light"
     },
     "output_type": "display_data"
    }
   ],
   "source": [
    "import numpy as np\n",
    "import pandas as pd\n",
    "import matplotlib.pyplot as plt\n",
    "\n",
    "\n",
    "# define the model\n",
    "model = tree.DecisionTreeClassifier(criterion = 'gini', random_state = 42, max_depth = 5)\n",
    "# fit the model\n",
    "model.fit(X_train, y_train)\n",
    "preds_lr = model.predict(X_test)\n",
    "print(metrics.classification_report(y_test, preds_lr))\n",
    "\n",
    "# get importance\n",
    "importance = model.feature_importances_\n",
    "# print(importance)\n",
    "toGetFeatImportance = dataset.drop(['CLASS'], axis=1)\n",
    "# (toGetFeatImportance)\n",
    "feature_importance = dict(zip(toGetFeatImportance.columns, model.feature_importances_))\n",
    "\n",
    "print(feature_importance)\n",
    "# value_importance = []\n",
    "# i = 0\n",
    "# for key, value in feature_importance.items():\n",
    "#     print(\"%s : %f\" % (key, value))\n",
    "#     value_importance\n",
    "    \n",
    "    \n",
    "fig = plt.figure()\n",
    "ax = fig.add_axes([0,0,1,1])\n",
    "values = [feature_importance[\"image category\"], feature_importance[\"# fixations\"], feature_importance['mean duration'],\n",
    "            feature_importance['# clusters'], feature_importance[\"# noise points\"], feature_importance[\"silhouette score\"]]\n",
    "labels = ['image category', '#fixations', 'mean duration', '#clusters', '# noisepoints', 'silhouette']\n",
    "ax.bar(labels,values)\n",
    "plt.show()\n",
    "    "
   ]
  },
  {
   "cell_type": "markdown",
   "metadata": {},
   "source": [
    "# Let's compare the best and the worst results!\n"
   ]
  },
  {
   "cell_type": "code",
   "execution_count": 20,
   "metadata": {},
   "outputs": [
    {
     "data": {
      "image/png": "[encoded data removed]",
      "text/plain": [
       "<Figure size 432x288 with 1 Axes>"
      ]
     },
     "metadata": {
      "needs_background": "light"
     },
     "output_type": "display_data"
    }
   ],
   "source": [
    "fig = plt.figure()\n",
    "ax = fig.add_axes([0,0,1,1.5])\n",
    "plt.yticks(np.arange(0, 1, 0.03))\n",
    "values = [accuracy_svm, accuracy_logreg, accuracy_bernoulli, accuracy_dt]\n",
    "labels = ['SVM', 'Logistic Regression', 'BernoulliNB', 'DecisionTreee']\n",
    "ax.bar(labels,values)\n",
    "plt.show()"
   ]
  },
  {
   "cell_type": "markdown",
   "metadata": {},
   "source": [
    "\n",
    "## Best: SVM and DECISION TREE\n",
    "## Worst: BERNOULLI\n",
    "\n",
    "\n",
    "### Start from SVM"
   ]
  },
  {
   "cell_type": "code",
   "execution_count": 21,
   "metadata": {},
   "outputs": [
    {
     "name": "stdout",
     "output_type": "stream",
     "text": [
      "['TN=461', 'FP=183', 'FN=111', 'TP=460']\n"
     ]
    },
    {
     "data": {
      "image/png": "[encoded data removed]",
      "text/plain": [
       "<Figure size 432x288 with 2 Axes>"
      ]
     },
     "metadata": {
      "needs_background": "light"
     },
     "output_type": "display_data"
    }
   ],
   "source": [
    "from sklearn.metrics import confusion_matrix\n",
    "import numpy as np\n",
    "import seaborn as sns\n",
    "import matplotlib.pyplot as plt\n",
    "\n",
    "cf_matrix = confusion_matrix(y_test, preds_svm)\n",
    "tn, fp, fn, tp = cf_matrix.ravel()\n",
    "labels = ['TN=%d'%tn,\"FP=%d\"%fp,\"FN=%d\"%fn,\"TP=%d\"%tp]\n",
    "print(labels)\n",
    "labels = np.asarray(labels).reshape(2,2)\n",
    "\n",
    "sns.heatmap(cf_matrix, annot=labels, fmt='', cmap='Greens')\n",
    "plt.ylabel('True label')\n",
    "plt.xlabel('Predicted label')\n",
    "axis_labels = ['1', '5']\n",
    "plt.xticks([0.5,1.5], axis_labels)\n",
    "plt.yticks([0.5,1.5], axis_labels)\n",
    "\n",
    "plt.show()\n"
   ]
  },
  {
   "cell_type": "markdown",
   "metadata": {},
   "source": [
    "## Let's make some observations on this confusion matrix: of course, these will be applicable also to the next confusion matrices.\n",
    "\n",
    "## TP = True Positive, TN = True Negative (respectively 458 and 430)\n",
    "These are correct predictions.\n",
    "\n",
    "## FP = False Positive, FN = False Negative (respectively 204 and 123)\n",
    "These are wrong predictions.\n",
    "\n",
    "The classifier made a total of 1215 prediction:\n",
    "* TP:458 CORRECTLY labeled with 1\n",
    "* TN:430 CORRECTLY labeled with 5\n",
    "* FP:204 WRONGLY labeled with 1 (they were 5)\n",
    "* FN:123 WRONGLY labeled with 5 (they were 1)\n",
    "\n",
    "\n",
    "### Accuracy = TP+TN/TP+FP+FN+TN\n",
    "### Precision = TP/TP+FP\n",
    "### Recall = TP/TP+FN\n",
    "### F1 Score = 2*(Recall * Precision) / (Recall + Precision)\n",
    "\n",
    "\n",
    "\n",
    "\n",
    "\n",
    "\n",
    "\n"
   ]
  },
  {
   "cell_type": "markdown",
   "metadata": {},
   "source": [
    "### Go on with Decision Tree"
   ]
  },
  {
   "cell_type": "code",
   "execution_count": 22,
   "metadata": {},
   "outputs": [
    {
     "name": "stdout",
     "output_type": "stream",
     "text": [
      "['TN=453', 'FP=191', 'FN=108', 'TP=463']\n"
     ]
    },
    {
     "data": {
      "image/png": "[encoded data removed]",
      "text/plain": [
       "<Figure size 432x288 with 2 Axes>"
      ]
     },
     "metadata": {
      "needs_background": "light"
     },
     "output_type": "display_data"
    }
   ],
   "source": [
    "cf_matrix = confusion_matrix(y_test, preds4)\n",
    "tn, fp, fn, tp = cf_matrix.ravel()\n",
    "labels = ['TN=%d'%tn,\"FP=%d\"%fp,\"FN=%d\"%fn,\"TP=%d\"%tp]\n",
    "print(labels)\n",
    "labels = np.asarray(labels).reshape(2,2)\n",
    "\n",
    "sns.heatmap(cf_matrix, annot=labels, fmt='', cmap='Greens')\n",
    "plt.ylabel('True label')\n",
    "plt.xlabel('Predicted label')\n",
    "plt.show()\n"
   ]
  },
  {
   "cell_type": "markdown",
   "metadata": {},
   "source": [
    "## The worst: BERNOULLI NB!"
   ]
  },
  {
   "cell_type": "code",
   "execution_count": 23,
   "metadata": {},
   "outputs": [
    {
     "name": "stdout",
     "output_type": "stream",
     "text": [
      "['TN=467', 'FP=177', 'FN=208', 'TP=363']\n"
     ]
    },
    {
     "data": {
      "image/png": "[encoded data removed]",
      "text/plain": [
       "<Figure size 432x288 with 2 Axes>"
      ]
     },
     "metadata": {
      "needs_background": "light"
     },
     "output_type": "display_data"
    }
   ],
   "source": [
    "cf_matrix = confusion_matrix(y_test, preds3)\n",
    "tn, fp, fn, tp = cf_matrix.ravel()\n",
    "labels = ['TN=%d'%tn,\"FP=%d\"%fp,\"FN=%d\"%fn,\"TP=%d\"%tp]\n",
    "print(labels)\n",
    "labels = np.asarray(labels).reshape(2,2)\n",
    "\n",
    "sns.heatmap(cf_matrix, annot=labels, fmt='', cmap='Reds')\n",
    "plt.ylabel('True label')\n",
    "plt.xlabel('Predicted label')\n",
    "plt.show()\n"
   ]
  },
  {
   "cell_type": "markdown",
   "metadata": {},
   "source": [
    "# Let's try with a ANN!"
   ]
  },
  {
   "cell_type": "code",
   "execution_count": 24,
   "metadata": {},
   "outputs": [
    {
     "name": "stderr",
     "output_type": "stream",
     "text": [
      "Using TensorFlow backend.\n"
     ]
    }
   ],
   "source": [
    "import keras"
   ]
  },
  {
   "cell_type": "code",
   "execution_count": 25,
   "metadata": {},
   "outputs": [],
   "source": [
    "from keras.models import Sequential #because our net is very simple\n",
    "from keras.layers import Dense #a fully connected layer that will fully connect input to output: every input will arrive to the output"
   ]
  },
  {
   "cell_type": "markdown",
   "metadata": {},
   "source": [
    "## Let's tune Batch Size and Number of Epochs"
   ]
  },
  {
   "cell_type": "markdown",
   "metadata": {},
   "source": [
    "INPUT LAYER: \n",
    "* input dimension = 6  (7 columns - CLASS column)\n",
    "* units = 4. Why 4? Our hidden layer will have n nodes, where n is the mean of the sum of the number of input nodes and the number of output nodes: we have 6 input nodes and just 1 output nodes (BINARY CLASSIFICATION: 0 or 1, so just one output). The mean is 3.5: let's choose 4 to start.\n",
    "* try with relu as activation function for the first 2 layers, but then we'll tune also this parameter\n",
    "* clearly sigmoid as activation function for the output layer: predictions are binary."
   ]
  },
  {
   "cell_type": "code",
   "execution_count": 26,
   "metadata": {},
   "outputs": [],
   "source": [
    "# X_train, X_test, y_train, y_test = train_test_split(Features, classification, test_size=0.3, random_state=1)\n"
   ]
  },
  {
   "cell_type": "code",
   "execution_count": 27,
   "metadata": {},
   "outputs": [
    {
     "name": "stdout",
     "output_type": "stream",
     "text": [
      "(2833, 6)\n",
      "(1215, 6)\n"
     ]
    }
   ],
   "source": [
    "print(X_train.shape)\n",
    "print(X_test.shape)"
   ]
  },
  {
   "cell_type": "code",
   "execution_count": 28,
   "metadata": {},
   "outputs": [
    {
     "name": "stdout",
     "output_type": "stream",
     "text": [
      "Best: 0.741281 using {'batch_size': 8, 'epochs': 150}\n",
      "\n",
      "0.709873 (0.030797) with: {'batch_size': 2, 'epochs': 10}\n",
      "0.723279 (0.020852) with: {'batch_size': 2, 'epochs': 50}\n",
      "0.728219 (0.021904) with: {'batch_size': 2, 'epochs': 100}\n",
      "0.728220 (0.028270) with: {'batch_size': 2, 'epochs': 150}\n",
      "0.726805 (0.017206) with: {'batch_size': 2, 'epochs': 200}\n",
      "0.729628 (0.022506) with: {'batch_size': 2, 'epochs': 300}\n",
      "0.676654 (0.045283) with: {'batch_size': 8, 'epochs': 10}\n",
      "0.722212 (0.018856) with: {'batch_size': 8, 'epochs': 50}\n",
      "0.727167 (0.029638) with: {'batch_size': 8, 'epochs': 100}\n",
      "0.741281 (0.021973) with: {'batch_size': 8, 'epochs': 150}\n",
      "0.740923 (0.026548) with: {'batch_size': 8, 'epochs': 200}\n",
      "0.730685 (0.017583) with: {'batch_size': 8, 'epochs': 300}\n",
      "0.663989 (0.046100) with: {'batch_size': 16, 'epochs': 10}\n",
      "0.729628 (0.021517) with: {'batch_size': 16, 'epochs': 50}\n",
      "0.717613 (0.020742) with: {'batch_size': 16, 'epochs': 100}\n",
      "0.731397 (0.022307) with: {'batch_size': 16, 'epochs': 150}\n",
      "0.723269 (0.019429) with: {'batch_size': 16, 'epochs': 200}\n",
      "0.732098 (0.019497) with: {'batch_size': 16, 'epochs': 300}\n",
      "0.671746 (0.038275) with: {'batch_size': 32, 'epochs': 10}\n",
      "0.719390 (0.015942) with: {'batch_size': 32, 'epochs': 50}\n",
      "0.729272 (0.026199) with: {'batch_size': 32, 'epochs': 100}\n",
      "0.723631 (0.024736) with: {'batch_size': 32, 'epochs': 150}\n",
      "0.725394 (0.027970) with: {'batch_size': 32, 'epochs': 200}\n",
      "0.731739 (0.019046) with: {'batch_size': 32, 'epochs': 300}\n",
      "0.596898 (0.024387) with: {'batch_size': 64, 'epochs': 10}\n",
      "0.708099 (0.020566) with: {'batch_size': 64, 'epochs': 50}\n",
      "0.715854 (0.020148) with: {'batch_size': 64, 'epochs': 100}\n",
      "0.723271 (0.022596) with: {'batch_size': 64, 'epochs': 150}\n",
      "0.739855 (0.006151) with: {'batch_size': 64, 'epochs': 200}\n",
      "0.730324 (0.011444) with: {'batch_size': 64, 'epochs': 300}\n",
      "0.575372 (0.037861) with: {'batch_size': 128, 'epochs': 10}\n",
      "0.683360 (0.045173) with: {'batch_size': 128, 'epochs': 50}\n",
      "0.715509 (0.017200) with: {'batch_size': 128, 'epochs': 100}\n",
      "0.722579 (0.030793) with: {'batch_size': 128, 'epochs': 150}\n",
      "0.720798 (0.012732) with: {'batch_size': 128, 'epochs': 200}\n",
      "0.723280 (0.037260) with: {'batch_size': 128, 'epochs': 300}\n",
      "0.578546 (0.033695) with: {'batch_size': 256, 'epochs': 10}\n",
      "0.638548 (0.030541) with: {'batch_size': 256, 'epochs': 50}\n",
      "0.700322 (0.017116) with: {'batch_size': 256, 'epochs': 100}\n",
      "0.694688 (0.044655) with: {'batch_size': 256, 'epochs': 150}\n",
      "0.728221 (0.028958) with: {'batch_size': 256, 'epochs': 200}\n",
      "0.729625 (0.019145) with: {'batch_size': 256, 'epochs': 300}\n",
      "0.556288 (0.027471) with: {'batch_size': 512, 'epochs': 10}\n",
      "0.603583 (0.048887) with: {'batch_size': 512, 'epochs': 50}\n",
      "0.695039 (0.027440) with: {'batch_size': 512, 'epochs': 100}\n",
      "0.683031 (0.038617) with: {'batch_size': 512, 'epochs': 150}\n",
      "0.716916 (0.023606) with: {'batch_size': 512, 'epochs': 200}\n",
      "0.714104 (0.028128) with: {'batch_size': 512, 'epochs': 300}\n"
     ]
    }
   ],
   "source": [
    "# # Use scikit-learn to grid search the batch size and epochs\n",
    "\n",
    "from keras.models import Sequential\n",
    "from keras.layers import Dense\n",
    "from keras.wrappers.scikit_learn import KerasClassifier\n",
    "# Function to create model, required for KerasClassifier\n",
    "def create_model():\n",
    "    # create model\n",
    "    model = Sequential()\n",
    "    model.add(Dense(input_dim=6, units=4, activation='relu')) #input layer\n",
    "    model.add(Dense(units=4, activation=\"relu\")) #hidden layer\n",
    "    model.add(Dense(1, activation='sigmoid')) #output layer\n",
    "    # Compile model\n",
    "    model.compile(loss='binary_crossentropy', optimizer='adam', metrics=['accuracy'])\n",
    "    return model\n",
    "\n",
    "# # fix random seed for reproducibility\n",
    "# seed = 7\n",
    "# numpy.random.seed(seed)\n",
    "\n",
    "# create model\n",
    "model = KerasClassifier(build_fn=create_model, verbose=0)\n",
    "# define the grid search parameters\n",
    "batch_size = [2, 8, 16, 32, 64, 128, 256, 512]\n",
    "epochs = [10, 50, 100, 150, 200, 300]\n",
    "param_grid = dict(batch_size=batch_size, epochs=epochs)\n",
    "grid = GridSearchCV(estimator=model, param_grid=param_grid, n_jobs=-1)\n",
    "grid_result = grid.fit(X_train, y_train)\n",
    "\n",
    "# summarize results\n",
    "print(\"Best: %f using %s\" % (grid_result.best_score_, grid_result.best_params_))\n",
    "print()\n",
    "means = grid_result.cv_results_['mean_test_score']\n",
    "stds = grid_result.cv_results_['std_test_score']\n",
    "params = grid_result.cv_results_['params']\n",
    "for mean, stdev, param in zip(means, stds, params):\n",
    "    print(\"%f (%f) with: %r\" % (mean, stdev, param))"
   ]
  },
  {
   "cell_type": "markdown",
   "metadata": {},
   "source": [
    "# LET'S TEST THESE PARAMETERS"
   ]
  },
  {
   "cell_type": "code",
   "execution_count": 29,
   "metadata": {},
   "outputs": [
    {
     "name": "stdout",
     "output_type": "stream",
     "text": [
      "These are the best parameters:  {'batch_size': 8, 'epochs': 150}\n",
      "This is the best accuracy:  0.7412810564041138\n"
     ]
    }
   ],
   "source": [
    "# X_train, X_test, y_train, y_test = train_test_split(Features, classification, test_size=0.3, random_state=1)\n",
    "best_net = grid.best_estimator_\n",
    "print(\"These are the best parameters: \",grid.best_params_)\n",
    "print(\"This is the best accuracy: \",grid.best_score_)\n",
    "y_pred = best_net.predict(X_test)\n",
    "\n",
    "best_batchsize = grid.best_params_['batch_size']\n",
    "\n",
    "best_epochs = grid.best_params_['epochs']\n"
   ]
  },
  {
   "cell_type": "code",
   "execution_count": 30,
   "metadata": {},
   "outputs": [
    {
     "name": "stdout",
     "output_type": "stream",
     "text": [
      "              precision    recall  f1-score   support\n",
      "\n",
      "           1       0.82      0.62      0.71       644\n",
      "           5       0.66      0.85      0.75       571\n",
      "\n",
      "    accuracy                           0.73      1215\n",
      "   macro avg       0.74      0.73      0.73      1215\n",
      "weighted avg       0.75      0.73      0.73      1215\n",
      "\n"
     ]
    }
   ],
   "source": [
    "print(metrics.classification_report(y_test, y_pred))"
   ]
  },
  {
   "cell_type": "code",
   "execution_count": 31,
   "metadata": {},
   "outputs": [
    {
     "name": "stdout",
     "output_type": "stream",
     "text": [
      "(1215,) (1215,)\n",
      "ACCURACY:  0.7275720164609053\n"
     ]
    }
   ],
   "source": [
    "y_pred= y_pred[:,0] #transform y_pred in a vector to compare it with y_test (from (1215,1) to (1215,))\n",
    "\n",
    "y_pred = np.array(y_pred)\n",
    "\n",
    "y_test = np.array(y_test)\n",
    "print(y_pred.shape, y_test.shape)\n",
    "first_acc = len(y_pred[y_pred==y_test])/len(y_test) #comparison between predicted values and y_test\n",
    "\n",
    "\n",
    "print(\"ACCURACY: \",first_acc) "
   ]
  },
  {
   "cell_type": "markdown",
   "metadata": {},
   "source": [
    "## LET'S TUNE OTHER PARAMETERS, USING BEST PARAMS JUST OBTAINED"
   ]
  },
  {
   "cell_type": "code",
   "execution_count": 32,
   "metadata": {},
   "outputs": [
    {
     "name": "stdout",
     "output_type": "stream",
     "text": [
      "Best: 0.727151 using {'init_mode': 'he_normal'}\n",
      "0.705259 (0.023381) with: {'init_mode': 'uniform'}\n",
      "0.723621 (0.016593) with: {'init_mode': 'normal'}\n",
      "0.508295 (0.005644) with: {'init_mode': 'zero'}\n",
      "0.724677 (0.006726) with: {'init_mode': 'glorot_normal'}\n",
      "0.718678 (0.013403) with: {'init_mode': 'glorot_uniform'}\n",
      "0.727151 (0.013848) with: {'init_mode': 'he_normal'}\n"
     ]
    }
   ],
   "source": [
    "# Function to create model, required for KerasClassifier\n",
    "def create_model(init_mode=''):\n",
    "    # create model\n",
    "    model = Sequential()\n",
    "    model.add(Dense(input_dim=6, units=4, kernel_initializer=init_mode, activation='relu')) #input\n",
    "    model.add(Dense(units=4, kernel_initializer=init_mode, activation=\"relu\")) #hidden\n",
    "    model.add(Dense(1, kernel_initializer=init_mode, activation='sigmoid')) #output layer\n",
    "    # Compile model\n",
    "    model.compile(loss='binary_crossentropy', optimizer='adam', metrics=['accuracy'])\n",
    "    return model\n",
    "    # create model\n",
    "    \n",
    "model = KerasClassifier(build_fn=create_model, epochs=best_epochs, batch_size=best_batchsize, verbose=0)\n",
    "# define the grid search parameters\n",
    "init_mode = ['uniform', 'normal', 'zero', 'glorot_normal', 'glorot_uniform', 'he_normal']\n",
    "param_grid = dict(init_mode=init_mode)\n",
    "grid = GridSearchCV(estimator=model, param_grid=param_grid, n_jobs=-1, cv=3)\n",
    "grid_result = grid.fit(X_train, y_train)\n",
    "# summarize results\n",
    "print(\"Best: %f using %s\" % (grid_result.best_score_, grid_result.best_params_))\n",
    "means = grid_result.cv_results_['mean_test_score']\n",
    "stds = grid_result.cv_results_['std_test_score']\n",
    "params = grid_result.cv_results_['params']\n",
    "for mean, stdev, param in zip(means, stds, params):\n",
    "    print(\"%f (%f) with: %r\" % (mean, stdev, param))"
   ]
  },
  {
   "cell_type": "code",
   "execution_count": 33,
   "metadata": {},
   "outputs": [
    {
     "name": "stdout",
     "output_type": "stream",
     "text": [
      "These is the best parameter: {'init_mode': 'he_normal'}\n",
      "This is the best accuracy 0.7271507779757181\n"
     ]
    }
   ],
   "source": [
    "best_net2 = grid.best_estimator_\n",
    "print(\"These is the best parameter:\",grid.best_params_)\n",
    "print(\"This is the best accuracy\", grid.best_score_)\n",
    "y_pred2 = best_net2.predict(X_test)\n",
    "\n",
    "best_initmode = grid.best_params_['init_mode']\n"
   ]
  },
  {
   "cell_type": "code",
   "execution_count": 34,
   "metadata": {},
   "outputs": [
    {
     "name": "stdout",
     "output_type": "stream",
     "text": [
      "              precision    recall  f1-score   support\n",
      "\n",
      "           1       0.76      0.73      0.75       644\n",
      "           5       0.71      0.74      0.73       571\n",
      "\n",
      "    accuracy                           0.74      1215\n",
      "   macro avg       0.74      0.74      0.74      1215\n",
      "weighted avg       0.74      0.74      0.74      1215\n",
      "\n"
     ]
    }
   ],
   "source": [
    "print(metrics.classification_report(y_test, y_pred2))"
   ]
  },
  {
   "cell_type": "code",
   "execution_count": 35,
   "metadata": {},
   "outputs": [
    {
     "name": "stdout",
     "output_type": "stream",
     "text": [
      "ACCURACY: 0.7366255144032922\n"
     ]
    }
   ],
   "source": [
    "y_pred2 = y_pred2[:,0] #transform y_pred in a vector to compare it with y_test (from (1215,1) to (1215,))\n",
    "\n",
    "y_pred2 = np.array(y_pred2)\n",
    "\n",
    "y_test = np.array(y_test)\n",
    "# print(y_pred.shape, y_test.shape)\n",
    "\n",
    "second_acc = len(y_pred2[y_pred2==y_test])/len(y_test) #comparison between predicted values and y_test\n",
    "print(\"ACCURACY:\" ,second_acc)"
   ]
  }
 ],
 "metadata": {
  "kernelspec": {
   "display_name": "Python 3",
   "language": "python",
   "name": "python3"
  },
  "language_info": {
   "codemirror_mode": {
    "name": "ipython",
    "version": 3
   },
   "file_extension": ".py",
   "mimetype": "text/x-python",
   "name": "python",
   "nbconvert_exporter": "python",
   "pygments_lexer": "ipython3",
   "version": "3.7.9"
  }
 },
 "nbformat": 4,
 "nbformat_minor": 4
}
